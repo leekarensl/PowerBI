{
 "cells": [
  {
   "cell_type": "code",
   "execution_count": 1,
   "id": "6139e6ce-a2be-422b-8e99-5d7620501fd7",
   "metadata": {},
   "outputs": [],
   "source": [
    "import pandas as pd\n",
    "import numpy as np"
   ]
  },
  {
   "cell_type": "code",
   "execution_count": 2,
   "id": "05e94719-4b2e-4fd8-aa94-a961624454a5",
   "metadata": {},
   "outputs": [],
   "source": [
    "np.random.seed(42)"
   ]
  },
  {
   "cell_type": "code",
   "execution_count": 29,
   "id": "ef32f977-f599-472b-8aaf-2ce0a73e07bb",
   "metadata": {},
   "outputs": [
    {
     "name": "stdout",
     "output_type": "stream",
     "text": [
      "   Impressions\n",
      "0         1680\n",
      "1          618\n",
      "2           66\n",
      "3         1230\n",
      "4         5101\n",
      "5         3391\n",
      "6         6334\n",
      "7        15011\n",
      "8         8842\n",
      "9         1486\n",
      "<class 'pandas.core.frame.DataFrame'>\n",
      "RangeIndex: 2260 entries, 0 to 2259\n",
      "Data columns (total 1 columns):\n",
      " #   Column       Non-Null Count  Dtype\n",
      "---  ------       --------------  -----\n",
      " 0   Impressions  2260 non-null   int64\n",
      "dtypes: int64(1)\n",
      "memory usage: 17.8 KB\n",
      "None\n"
     ]
    }
   ],
   "source": [
    "df = pd.read_csv('C:/Users/Karen Lee/Downloads/Test.csv')\n",
    "print(df.head(10))\n",
    "print(df.info())"
   ]
  },
  {
   "cell_type": "code",
   "execution_count": 31,
   "id": "afc4aa19-80f4-4eb5-9baa-b63c0c0a860c",
   "metadata": {},
   "outputs": [
    {
     "data": {
      "text/html": [
       "<div>\n",
       "<style scoped>\n",
       "    .dataframe tbody tr th:only-of-type {\n",
       "        vertical-align: middle;\n",
       "    }\n",
       "\n",
       "    .dataframe tbody tr th {\n",
       "        vertical-align: top;\n",
       "    }\n",
       "\n",
       "    .dataframe thead th {\n",
       "        text-align: right;\n",
       "    }\n",
       "</style>\n",
       "<table border=\"1\" class=\"dataframe\">\n",
       "  <thead>\n",
       "    <tr style=\"text-align: right;\">\n",
       "      <th></th>\n",
       "      <th>Impressions</th>\n",
       "    </tr>\n",
       "  </thead>\n",
       "  <tbody>\n",
       "    <tr>\n",
       "      <th>0</th>\n",
       "      <td>1680</td>\n",
       "    </tr>\n",
       "    <tr>\n",
       "      <th>1</th>\n",
       "      <td>618</td>\n",
       "    </tr>\n",
       "    <tr>\n",
       "      <th>2</th>\n",
       "      <td>66</td>\n",
       "    </tr>\n",
       "    <tr>\n",
       "      <th>3</th>\n",
       "      <td>1230</td>\n",
       "    </tr>\n",
       "    <tr>\n",
       "      <th>4</th>\n",
       "      <td>5101</td>\n",
       "    </tr>\n",
       "    <tr>\n",
       "      <th>5</th>\n",
       "      <td>3391</td>\n",
       "    </tr>\n",
       "    <tr>\n",
       "      <th>6</th>\n",
       "      <td>6334</td>\n",
       "    </tr>\n",
       "    <tr>\n",
       "      <th>7</th>\n",
       "      <td>15011</td>\n",
       "    </tr>\n",
       "    <tr>\n",
       "      <th>8</th>\n",
       "      <td>8842</td>\n",
       "    </tr>\n",
       "    <tr>\n",
       "      <th>9</th>\n",
       "      <td>1486</td>\n",
       "    </tr>\n",
       "    <tr>\n",
       "      <th>10</th>\n",
       "      <td>43</td>\n",
       "    </tr>\n",
       "    <tr>\n",
       "      <th>11</th>\n",
       "      <td>3372</td>\n",
       "    </tr>\n",
       "    <tr>\n",
       "      <th>12</th>\n",
       "      <td>550</td>\n",
       "    </tr>\n",
       "    <tr>\n",
       "      <th>13</th>\n",
       "      <td>5810</td>\n",
       "    </tr>\n",
       "    <tr>\n",
       "      <th>14</th>\n",
       "      <td>55</td>\n",
       "    </tr>\n",
       "    <tr>\n",
       "      <th>15</th>\n",
       "      <td>192</td>\n",
       "    </tr>\n",
       "    <tr>\n",
       "      <th>16</th>\n",
       "      <td>578</td>\n",
       "    </tr>\n",
       "    <tr>\n",
       "      <th>17</th>\n",
       "      <td>495</td>\n",
       "    </tr>\n",
       "    <tr>\n",
       "      <th>18</th>\n",
       "      <td>21</td>\n",
       "    </tr>\n",
       "    <tr>\n",
       "      <th>19</th>\n",
       "      <td>9881</td>\n",
       "    </tr>\n",
       "  </tbody>\n",
       "</table>\n",
       "</div>"
      ],
      "text/plain": [
       "    Impressions\n",
       "0          1680\n",
       "1           618\n",
       "2            66\n",
       "3          1230\n",
       "4          5101\n",
       "5          3391\n",
       "6          6334\n",
       "7         15011\n",
       "8          8842\n",
       "9          1486\n",
       "10           43\n",
       "11         3372\n",
       "12          550\n",
       "13         5810\n",
       "14           55\n",
       "15          192\n",
       "16          578\n",
       "17          495\n",
       "18           21\n",
       "19         9881"
      ]
     },
     "execution_count": 31,
     "metadata": {},
     "output_type": "execute_result"
    }
   ],
   "source": [
    "df.head(20)"
   ]
  },
  {
   "cell_type": "code",
   "execution_count": 30,
   "id": "c71d156d-9ab4-47c2-9119-7d6cae2dfb6b",
   "metadata": {},
   "outputs": [],
   "source": [
    "df = df.dropna()  # Remove NaN values\n",
    "df = df[df['Impressions'].apply(lambda x: isinstance(x, (int, float)) and x >= 0)]  # Keep only non-negative numbers\n",
    "df['Impressions'] = df['Impressions'].astype(int)\n"
   ]
  },
  {
   "cell_type": "code",
   "execution_count": 32,
   "id": "0f8d4bb2-259b-4963-9266-b8da1c27b6ed",
   "metadata": {},
   "outputs": [],
   "source": [
    "# Parameters for generation\n",
    "cost_per_impression_range = (0.05, 0.20)  # £ per impression\n",
    "ctr_range = (0.005, 0.1)  # Click-through rate\n",
    "cr_range = (0.01, 0.2)   # Conversion rate\n",
    "price_per_sale_range = (10, 100)  # £ per sale"
   ]
  },
  {
   "cell_type": "code",
   "execution_count": 33,
   "id": "3b38d50a-6c58-4583-a25b-ff8a67693ce7",
   "metadata": {},
   "outputs": [],
   "source": [
    "# Generate a single price per sale for consistency across rows\n",
    "price_per_sale = np.random.uniform(price_per_sale_range[0], price_per_sale_range[1])\n",
    "\n",
    "# Generate Spend: Spend = Impressions * cost_per_impression + noise\n",
    "cost_per_impression = np.random.uniform(cost_per_impression_range[0], cost_per_impression_range[1], len(df))\n",
    "df['Spend'] = df['Impressions'] * cost_per_impression + np.random.normal(0, 50, len(df))\n",
    "df['Spend'] = df['Spend'].clip(lower=0).round(2)  # Ensure non-negative and round to 2 decimals"
   ]
  },
  {
   "cell_type": "code",
   "execution_count": 34,
   "id": "60b30b5f-6959-495d-9031-9b737a705fe5",
   "metadata": {},
   "outputs": [],
   "source": [
    "# Generate Clicks: Clicks = Impressions * CTR\n",
    "ctr = np.random.uniform(ctr_range[0], ctr_range[1], len(df))\n",
    "df['Clicks'] = (df['Impressions'] * ctr).astype(int)\n",
    "df['Clicks'] = df['Clicks'].clip(upper=df['Impressions'])  # Ensure Clicks <= Impressions"
   ]
  },
  {
   "cell_type": "code",
   "execution_count": 35,
   "id": "09f5cc11-4142-4431-90b0-d0279a1c5a6c",
   "metadata": {},
   "outputs": [],
   "source": [
    "# Generate Sales: Sales = Clicks * CR\n",
    "cr = np.random.uniform(cr_range[0], cr_range[1], len(df))\n",
    "df['Sales'] = (df['Clicks'] * cr).astype(int)\n",
    "df['Sales'] = df['Sales'].clip(upper=df['Clicks'])  # Ensure Sales <= Clicks"
   ]
  },
  {
   "cell_type": "code",
   "execution_count": 36,
   "id": "89d2206f-d75f-4d94-bbd5-df7755c947c3",
   "metadata": {},
   "outputs": [],
   "source": [
    "# Generate Revenue: Revenue = Sales * price_per_sale\n",
    "df['Revenue'] = (df['Sales'] * price_per_sale).round(2)"
   ]
  },
  {
   "cell_type": "code",
   "execution_count": 37,
   "id": "9e293a34-90f1-4b59-9987-50ebc5f88358",
   "metadata": {},
   "outputs": [],
   "source": [
    "# Save to CSV\n",
    "output_file = 'generated_marketing_data.csv'\n",
    "df.to_csv(output_file, index=False)"
   ]
  },
  {
   "cell_type": "code",
   "execution_count": 38,
   "id": "8fc32404-a0ce-4351-bf69-50b2297dcf49",
   "metadata": {},
   "outputs": [
    {
     "name": "stdout",
     "output_type": "stream",
     "text": [
      "   Impressions   Spend  Clicks  Sales  Revenue\n",
      "0         1680  258.39     104     14  1264.58\n",
      "1          618  106.76      10      0     0.00\n",
      "2           66   87.49       0      0     0.00\n",
      "3         1230  148.73      67     12  1083.93\n",
      "4         5101  799.89     220      2   180.65\n"
     ]
    }
   ],
   "source": [
    "# Print first few rows for verification\n",
    "print(df.head())"
   ]
  },
  {
   "cell_type": "code",
   "execution_count": 39,
   "id": "7146709b-3dd6-4b9e-8209-46812de2b6ca",
   "metadata": {},
   "outputs": [
    {
     "name": "stdout",
     "output_type": "stream",
     "text": [
      "Data saved to generated_marketing_data.csv\n"
     ]
    }
   ],
   "source": [
    "# Return the path to the output file\n",
    "print(f\"Data saved to {output_file}\")"
   ]
  },
  {
   "cell_type": "code",
   "execution_count": null,
   "id": "4382555e-1ad9-4a74-b9b6-1c60857d86a5",
   "metadata": {},
   "outputs": [],
   "source": []
  }
 ],
 "metadata": {
  "kernelspec": {
   "display_name": "Python 3 (ipykernel)",
   "language": "python",
   "name": "python3"
  },
  "language_info": {
   "codemirror_mode": {
    "name": "ipython",
    "version": 3
   },
   "file_extension": ".py",
   "mimetype": "text/x-python",
   "name": "python",
   "nbconvert_exporter": "python",
   "pygments_lexer": "ipython3",
   "version": "3.12.10"
  }
 },
 "nbformat": 4,
 "nbformat_minor": 5
}
